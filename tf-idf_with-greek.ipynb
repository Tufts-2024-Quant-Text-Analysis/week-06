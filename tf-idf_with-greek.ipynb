{
 "cells": [
  {
   "cell_type": "markdown",
   "metadata": {},
   "source": [
    "# TF-IDF with Greek\n",
    "\n",
    "Use this notebook to experiment with calculating TF-IDF with Greek. You won't be able to use scikit-learn's `\"english\"` stop words, and in general you will have to be in charge of a much larger part of the pipeline.\n",
    "\n",
    "But this could be a useful exercise for those of you interested in the additional complexity of working with Greek!"
   ]
  }
 ],
 "metadata": {
  "language_info": {
   "name": "python"
  }
 },
 "nbformat": 4,
 "nbformat_minor": 2
}
