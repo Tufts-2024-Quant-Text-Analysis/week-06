{
 "cells": [
  {
   "cell_type": "markdown",
   "metadata": {},
   "source": [
    "# Reintroduction to Pandas\n",
    "\n",
    "Use this notebook if you are feeling uncomfortable with Python and/or Pandas.\n",
    "\n",
    "I recommend starting with [\"10 Minutes to Pandas\"](https://pandas.pydata.org/docs/user_guide/10min.html), and then exploring the links listed on [this page](https://pandas.pydata.org/docs/user_guide/index.html). Most of the sections are fairly short, so don't be intimidated by the long links."
   ]
  }
 ],
 "metadata": {
  "language_info": {
   "name": "python"
  }
 },
 "nbformat": 4,
 "nbformat_minor": 2
}
